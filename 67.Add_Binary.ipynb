{
 "cells": [
  {
   "cell_type": "markdown",
   "metadata": {},
   "source": [
    "# 67. Add Binary\n",
    "\n",
    "Given two binary strings, return their sum (also a binary string).\n",
    "\n",
    "The input strings are both non-empty and contains only characters 1 or 0.\n",
    "\n",
    "Example 1:\n",
    "\n",
    "Input: a = \"11\", b = \"1\"\n",
    "Output: \"100\"\n",
    "Example 2:\n",
    "\n",
    "Input: a = \"1010\", b = \"1011\"\n",
    "Output: \"10101\"\n",
    "\n",
    "\n",
    "Note: This is a tricy question in terms where bin, str, or int are allowed. addBinary2 does not used them."
   ]
  },
  {
   "cell_type": "code",
   "execution_count": 192,
   "metadata": {
    "collapsed": true
   },
   "outputs": [],
   "source": [
    "class Solution(object):\n",
    "    def addBinary(self, a, b):\n",
    "        \"\"\"\n",
    "        :type a: str\n",
    "        :type b: str\n",
    "        :rtype: str\n",
    "        \"\"\"\n",
    "        return bin(eval('0b' + a) + eval('0b' + b))[2:]\n",
    "    \n",
    "    def addBinary1(self, a, b):\n",
    "        \"\"\"\n",
    "        :type a: str\n",
    "        :type b: str\n",
    "        :rtype: str\n",
    "        \"\"\"\n",
    "        return bin(int(a,2) + int(b,2))[2:]\n",
    "    \n",
    "    def addBinary2(self,a,b):\n",
    "        \"\"\"\n",
    "        :type a: str\n",
    "        :type b: str\n",
    "        :rtype: str\n",
    "        \"\"\"\n",
    "        status=0\n",
    "        out=''\n",
    "        a_rev=a[::-1]\n",
    "        b_rev=b[::-1]\n",
    "        for i in range(max(len(a),len(b))):\n",
    "            if i < len(a):\n",
    "                a_tmp=a_rev[i] \n",
    "            else:\n",
    "                a_tmp=0\n",
    "            if i < len(b):\n",
    "                b_tmp=b_rev[i]\n",
    "            else: \n",
    "                b_tmp=0\n",
    "            if [a_tmp,b_tmp,status].count('1')==0:\n",
    "                out=out+'0'\n",
    "                status='0'\n",
    "            elif [a_tmp,b_tmp,status].count('1')==1:\n",
    "                out=out+'1'\n",
    "                status='0'\n",
    "            elif [a_tmp,b_tmp,status].count('1')==2:\n",
    "                out=out+'0'\n",
    "                status='1'\n",
    "            elif [a_tmp,b_tmp,status].count('1')==3:\n",
    "                out=out+'1'\n",
    "                status='1'\n",
    "    \n",
    "        if status=='1':\n",
    "            return status + out[::-1]\n",
    "        else:\n",
    "            return out[::-1]\n",
    "            "
   ]
  },
  {
   "cell_type": "code",
   "execution_count": 193,
   "metadata": {},
   "outputs": [
    {
     "name": "stdout",
     "output_type": "stream",
     "text": [
      "1001111\n",
      "CPU times: user 366 µs, sys: 306 µs, total: 672 µs\n",
      "Wall time: 392 µs\n"
     ]
    }
   ],
   "source": [
    "%%time\n",
    "a='10010'\n",
    "b='111101'\n",
    "print(Solution().addBinary(a,b))"
   ]
  },
  {
   "cell_type": "code",
   "execution_count": 194,
   "metadata": {},
   "outputs": [
    {
     "name": "stdout",
     "output_type": "stream",
     "text": [
      "1001111\n",
      "CPU times: user 665 µs, sys: 551 µs, total: 1.22 ms\n",
      "Wall time: 912 µs\n"
     ]
    }
   ],
   "source": [
    "%%time\n",
    "a='10010'\n",
    "b='111101'\n",
    "tmp=Solution()\n",
    "print(Solution().addBinary1(a,b))"
   ]
  },
  {
   "cell_type": "code",
   "execution_count": 195,
   "metadata": {},
   "outputs": [
    {
     "name": "stdout",
     "output_type": "stream",
     "text": [
      "1001111\n",
      "CPU times: user 496 µs, sys: 281 µs, total: 777 µs\n",
      "Wall time: 530 µs\n"
     ]
    }
   ],
   "source": [
    "%%time\n",
    "a='10010'\n",
    "b='111101'\n",
    "print(Solution().addBinary2(a,b))"
   ]
  },
  {
   "cell_type": "code",
   "execution_count": null,
   "metadata": {
    "collapsed": true
   },
   "outputs": [],
   "source": []
  },
  {
   "cell_type": "code",
   "execution_count": null,
   "metadata": {
    "collapsed": true
   },
   "outputs": [],
   "source": []
  }
 ],
 "metadata": {
  "kernelspec": {
   "display_name": "Python 2",
   "language": "python",
   "name": "python2"
  },
  "language_info": {
   "codemirror_mode": {
    "name": "ipython",
    "version": 2
   },
   "file_extension": ".py",
   "mimetype": "text/x-python",
   "name": "python",
   "nbconvert_exporter": "python",
   "pygments_lexer": "ipython2",
   "version": "2.7.13"
  }
 },
 "nbformat": 4,
 "nbformat_minor": 2
}

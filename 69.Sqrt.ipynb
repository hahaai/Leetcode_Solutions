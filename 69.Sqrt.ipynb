{
 "cells": [
  {
   "cell_type": "markdown",
   "metadata": {},
   "source": [
    "# 69. Sqrt(x)\n",
    "Implement int sqrt(int x).\n",
    "\n",
    "Compute and return the square root of x, where x is guaranteed to be a non-negative integer.\n",
    "\n",
    "Since the return type is an integer, the decimal digits are truncated and only the integer part of the result is returned.\n",
    "\n",
    "Example 1:\n",
    "\n",
    "Input: 4\n",
    "Output: 2\n",
    "Example 2:\n",
    "\n",
    "Input: 8\n",
    "Output: 2\n",
    "Explanation: The square root of 8 is 2.82842..., and since \n",
    "             the decimal part is truncated, 2 is returned.\n",
    "             \n",
    "             \n",
    "Notes: This can be done by trying all the integers less than x. Binary search can be used."
   ]
  },
  {
   "cell_type": "code",
   "execution_count": 71,
   "metadata": {},
   "outputs": [],
   "source": [
    "class Solution(object):\n",
    "    \n",
    "    \n",
    "    def mySqrt(self, x):\n",
    "        \"\"\"\n",
    "        :type x: int\n",
    "        :rtype: int\n",
    "        \"\"\"\n",
    "        # slowest, jsut try every interger\n",
    "        \n",
    "        if x ==0:\n",
    "            return 0\n",
    "        else:\n",
    "            for i in range(x):\n",
    "                if (i+1)*(i+1)>x:\n",
    "                    return i\n",
    "                elif (i+1)*(i+1)==x:\n",
    "                    return (i+1)\n",
    "                \n",
    "    def mySqrt_Newton(self, x):\n",
    "        \"\"\"\n",
    "        :type x: int\n",
    "        :rtype: int\n",
    "        \"\"\"\n",
    "        r = x\n",
    "        while r*r > x:\n",
    "            r = (r + x/r) / 2\n",
    "        return r\n",
    "    \n",
    "    def mySqrt_bs(self, x):\n",
    "        \"\"\"\n",
    "        :type x: int\n",
    "        :rtype: int\n",
    "        \"\"\"\n",
    "        # \n",
    "        if x ==0:\n",
    "            return 0\n",
    "        else:\n",
    "            left=0;\n",
    "            right=x\n",
    "            r=x/2\n",
    "            while r*r-x>1:\n",
    "                if r*r >x:\n",
    "                    left=left\n",
    "                    right=r\n",
    "                    r=(left+r)/2\n",
    "                if r*r<x:\n",
    "                    left=r\n",
    "                    right=right\n",
    "                    r=(r+right)/2\n",
    "            return r\n",
    "\n",
    "            "
   ]
  },
  {
   "cell_type": "code",
   "execution_count": 67,
   "metadata": {},
   "outputs": [
    {
     "name": "stdout",
     "output_type": "stream",
     "text": [
      "5\n",
      "CPU times: user 452 µs, sys: 188 µs, total: 640 µs\n",
      "Wall time: 659 µs\n"
     ]
    }
   ],
   "source": [
    "%%time\n",
    "x=33\n",
    "print(Solution().mySqrt(x))"
   ]
  },
  {
   "cell_type": "code",
   "execution_count": 68,
   "metadata": {},
   "outputs": [
    {
     "name": "stdout",
     "output_type": "stream",
     "text": [
      "5\n",
      "CPU times: user 422 µs, sys: 222 µs, total: 644 µs\n",
      "Wall time: 443 µs\n"
     ]
    }
   ],
   "source": [
    "%%time\n",
    "x=33\n",
    "print(Solution().mySqrt_Newton(x))"
   ]
  },
  {
   "cell_type": "code",
   "execution_count": 69,
   "metadata": {},
   "outputs": [
    {
     "name": "stdout",
     "output_type": "stream",
     "text": [
      "5\n",
      "CPU times: user 684 µs, sys: 719 µs, total: 1.4 ms\n",
      "Wall time: 1.25 ms\n"
     ]
    }
   ],
   "source": [
    "%%time\n",
    "x=33\n",
    "print(Solution().mySqrt_bs(x))"
   ]
  },
  {
   "cell_type": "code",
   "execution_count": null,
   "metadata": {
    "collapsed": true
   },
   "outputs": [],
   "source": []
  }
 ],
 "metadata": {
  "kernelspec": {
   "display_name": "Python 2",
   "language": "python",
   "name": "python2"
  },
  "language_info": {
   "codemirror_mode": {
    "name": "ipython",
    "version": 2
   },
   "file_extension": ".py",
   "mimetype": "text/x-python",
   "name": "python",
   "nbconvert_exporter": "python",
   "pygments_lexer": "ipython2",
   "version": "2.7.13"
  }
 },
 "nbformat": 4,
 "nbformat_minor": 2
}

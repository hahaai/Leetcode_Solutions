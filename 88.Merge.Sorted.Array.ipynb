{
 "cells": [
  {
   "cell_type": "markdown",
   "metadata": {},
   "source": [
    "# Merge Sorted Array\n",
    "Given two sorted integer arrays nums1 and nums2, merge nums2 into nums1 as one sorted array.\n",
    "\n",
    "Note:\n",
    "\n",
    "The number of elements initialized in nums1 and nums2 are m and n respectively.\n",
    "You may assume that nums1 has enough space (size that is greater or equal to m + n) to hold additional elements from nums2.\n",
    "Example:\n",
    "\n",
    "Input:\n",
    "nums1 = [1,2,3,0,0,0], m = 3\n",
    "nums2 = [2,5,6],       n = 3\n",
    "\n",
    "Output: [1,2,2,3,5,6]"
   ]
  },
  {
   "cell_type": "code",
   "execution_count": 141,
   "metadata": {},
   "outputs": [],
   "source": [
    "class Solution(object):\n",
    "    def merge(self, nums1, m, nums2, n):\n",
    "        \"\"\"\n",
    "        :type nums1: List[int]\n",
    "        :type m: int\n",
    "        :type nums2: List[int]\n",
    "        :type n: int\n",
    "        :rtype: void Do not return anything, modify nums1 in-place instead.\n",
    "        \"\"\"\n",
    "        start_idx=0\n",
    "        max_nums1=nums1[m-1]\n",
    "        nums1_old=nums1[0:m]\n",
    "        for i2_idx in range(n):\n",
    "            i2=nums2[i2_idx]\n",
    "            \n",
    "            if i2>=max_nums1:\n",
    "                nums1[(m+i2_idx):(m+n)]=nums2[i2_idx:(n)]\n",
    "                break\n",
    "            for i1_idx in range(start_idx,m+n):\n",
    "                print('i1_idx is',i1_idx)\n",
    "                print('i2_idx is',i2_idx)\n",
    "                print('nums1 is', nums1)\n",
    "                i1=nums1[i1_idx]\n",
    "                print('i1 = ',i1,'; i2 = ',i2)\n",
    "                if i2<i1:\n",
    "                    nums1[(i1_idx+1):(m+1)]=nums1[i1_idx:m]\n",
    "                    nums1[i1_idx]=i2\n",
    "                    start_idx=i1_idx\n",
    "                    print('after nums1 is', nums1)\n",
    "\n",
    "                    break   \n",
    "\n",
    "        return nums1"
   ]
  },
  {
   "cell_type": "code",
   "execution_count": 142,
   "metadata": {},
   "outputs": [
    {
     "name": "stdout",
     "output_type": "stream",
     "text": [
      "('i1_idx is', 0)\n",
      "('i2_idx is', 0)\n",
      "('nums1 is', [1, 2, 3, 0, 0, 0])\n",
      "('i1 = ', 1, '; i2 = ', 2)\n",
      "('i1_idx is', 1)\n",
      "('i2_idx is', 0)\n",
      "('nums1 is', [1, 2, 3, 0, 0, 0])\n",
      "('i1 = ', 2, '; i2 = ', 2)\n",
      "('i1_idx is', 2)\n",
      "('i2_idx is', 0)\n",
      "('nums1 is', [1, 2, 3, 0, 0, 0])\n",
      "('i1 = ', 3, '; i2 = ', 2)\n",
      "('after nums1 is', [1, 2, 2, 3, 0, 0])\n"
     ]
    },
    {
     "data": {
      "text/plain": [
       "[1, 2, 2, 3, 5, 6]"
      ]
     },
     "execution_count": 142,
     "metadata": {},
     "output_type": "execute_result"
    }
   ],
   "source": [
    "nums1 = [1,2,3,0,0,0]\n",
    "nums2 = [2,5,6]\n",
    "Solution().merge(nums1,3,nums2,3)\n"
   ]
  },
  {
   "cell_type": "code",
   "execution_count": 137,
   "metadata": {},
   "outputs": [
    {
     "name": "stdout",
     "output_type": "stream",
     "text": [
      "[5, 6, 0]\n",
      "[4, 5, 6]\n"
     ]
    }
   ],
   "source": [
    "nums1 = [1,2,4,5,6,0]\n",
    "nums2 = [3]\n",
    "m=5\n",
    "i1_idx=2\n",
    "print(nums1[(i1_idx+1):(m+1)])\n",
    "print(nums1[i1_idx:m])\n"
   ]
  },
  {
   "cell_type": "code",
   "execution_count": 50,
   "metadata": {},
   "outputs": [
    {
     "data": {
      "text/plain": [
       "[4, 5, 6]"
      ]
     },
     "execution_count": 50,
     "metadata": {},
     "output_type": "execute_result"
    }
   ],
   "source": [
    "nums2 = [4,5,6]\n",
    "\n",
    "nums2[0:3]"
   ]
  },
  {
   "cell_type": "code",
   "execution_count": null,
   "metadata": {
    "collapsed": true
   },
   "outputs": [],
   "source": []
  }
 ],
 "metadata": {
  "kernelspec": {
   "display_name": "Python 2",
   "language": "python",
   "name": "python2"
  },
  "language_info": {
   "codemirror_mode": {
    "name": "ipython",
    "version": 2
   },
   "file_extension": ".py",
   "mimetype": "text/x-python",
   "name": "python",
   "nbconvert_exporter": "python",
   "pygments_lexer": "ipython2",
   "version": "2.7.13"
  }
 },
 "nbformat": 4,
 "nbformat_minor": 2
}

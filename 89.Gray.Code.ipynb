{
 "cells": [
  {
   "cell_type": "markdown",
   "metadata": {},
   "source": [
    "# 89. Gray Code\n",
    "\n",
    "The gray code is a binary numeral system where two successive values differ in only one bit.\n",
    "\n",
    "Given a non-negative integer n representing the total number of bits in the code, print the sequence of gray code. A gray code sequence must begin with 0.\n",
    "\n",
    "Example 1:\n",
    "\n",
    "Input: 2\n",
    "Output: [0,1,3,2]\n",
    "Explanation:\n",
    "00 - 0\n",
    "01 - 1\n",
    "11 - 3\n",
    "10 - 2\n",
    "\n",
    "For a given n, a gray code sequence may not be uniquely defined.\n",
    "For example, [0,2,3,1] is also a valid gray code sequence.\n",
    "\n",
    "00 - 0\n",
    "10 - 2\n",
    "11 - 3\n",
    "01 - 1\n",
    "Example 2:\n",
    "\n",
    "Input: 0\n",
    "Output: [0]\n",
    "Explanation: We define the gray code sequence to begin with 0.\n",
    "             A gray code sequence of n has size = 2n, which for n = 0 the size is 20 = 1.\n",
    "             Therefore, for n = 0 the gray code sequence is [0].\n"
   ]
  },
  {
   "cell_type": "code",
   "execution_count": 1,
   "metadata": {
    "collapsed": true
   },
   "outputs": [],
   "source": [
    "class Solution(object):\n",
    "    def grayCode(self, n):\n",
    "        \"\"\"\n",
    "        :type n: int\n",
    "        :rtype: List[int]\n",
    "        \"\"\"\n",
    "        \n",
    "        '''\n",
    "        from up to down, then left to right\n",
    "\n",
    "        0   1   11  110\n",
    "                10  111\n",
    "                    101\n",
    "                    100\n",
    "\n",
    "        start:      [0]\n",
    "        i = 0:      [0, 1]\n",
    "        i = 1:      [0, 1, 3, 2]\n",
    "        i = 2:      [0, 1, 3, 2, 6, 7, 5, 4]\n",
    "        '''\n",
    "            \n",
    "        results = [0]\n",
    "        for i in range(n):\n",
    "            results += [x + pow(2, i) for x in reversed(results)]\n",
    "        return results\n",
    "        "
   ]
  },
  {
   "cell_type": "code",
   "execution_count": 5,
   "metadata": {},
   "outputs": [
    {
     "name": "stdout",
     "output_type": "stream",
     "text": [
      "[0, 1, 3, 2, 6, 7, 5, 4]\n"
     ]
    }
   ],
   "source": [
    "print(Solution().grayCode(3))"
   ]
  },
  {
   "cell_type": "code",
   "execution_count": null,
   "metadata": {
    "collapsed": true
   },
   "outputs": [],
   "source": []
  }
 ],
 "metadata": {
  "kernelspec": {
   "display_name": "Python 2",
   "language": "python",
   "name": "python2"
  },
  "language_info": {
   "codemirror_mode": {
    "name": "ipython",
    "version": 2
   },
   "file_extension": ".py",
   "mimetype": "text/x-python",
   "name": "python",
   "nbconvert_exporter": "python",
   "pygments_lexer": "ipython2",
   "version": "2.7.13"
  }
 },
 "nbformat": 4,
 "nbformat_minor": 2
}

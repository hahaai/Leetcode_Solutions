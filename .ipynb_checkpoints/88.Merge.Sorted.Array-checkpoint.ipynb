{
 "cells": [
  {
   "cell_type": "markdown",
   "metadata": {},
   "source": [
    "# Merge Sorted Array\n",
    "Given two sorted integer arrays nums1 and nums2, merge nums2 into nums1 as one sorted array.\n",
    "\n",
    "Note:\n",
    "\n",
    "The number of elements initialized in nums1 and nums2 are m and n respectively.\n",
    "You may assume that nums1 has enough space (size that is greater or equal to m + n) to hold additional elements from nums2.\n",
    "Example:\n",
    "\n",
    "Input:\n",
    "nums1 = [1,2,3,0,0,0], m = 3\n",
    "nums2 = [2,5,6],       n = 3\n",
    "\n",
    "Output: [1,2,2,3,5,6]"
   ]
  },
  {
   "cell_type": "code",
   "execution_count": 16,
   "metadata": {},
   "outputs": [],
   "source": [
    "class Solution(object):\n",
    "    def merge1(self, nums1, m, nums2, n):\n",
    "        \"\"\"\n",
    "        :type nums1: List[int]\n",
    "        :type m: int\n",
    "        :type nums2: List[int]\n",
    "        :type n: int\n",
    "        :rtype: void Do not return anything, modify nums1 in-place instead.\n",
    "        \"\"\"\n",
    "        # This goes through the nums2 and then nums1 from left to right. Running time O(m*n) \n",
    "        \n",
    "        start_idx=0\n",
    "        max_nums1=nums1[m-1]\n",
    "        nums1_old=nums1[0:m]\n",
    "        for i2_idx in range(n):\n",
    "            i2=nums2[i2_idx]\n",
    "            if i2>=max_nums1:\n",
    "                nums1[(m+i2_idx):(m+n)]=nums2[i2_idx:(n)]\n",
    "                break\n",
    "            for i1_idx in range(start_idx,m+n):\n",
    "                i1=nums1[i1_idx]\n",
    "                if i2<=i1:\n",
    "                    nums1[(i1_idx+1):(m+n)]=nums1[i1_idx:(m+n-1)]\n",
    "                    nums1[i1_idx]=i2\n",
    "                    start_idx=i1_idx\n",
    "                    break   \n",
    "        return nums1\n",
    "    \n",
    "    def merge2(self, nums1, m, nums2, n):\n",
    "        \"\"\"\n",
    "        :type nums1: List[int]\n",
    "        :type m: int\n",
    "        :type nums2: List[int]\n",
    "        :type n: int\n",
    "        :rtype: void Do not return anything, modify nums1 in-place instead.\n",
    "        \"\"\"\n",
    "        # This goes through the nums2 and then nums1 from right to left. This only compared the largestest bumbers\n",
    "        while m>0 and n>0:\n",
    "            if nums1[m-1] > nums2[n-1]:\n",
    "                nums1[m+n-1]=nums1[m-1]\n",
    "                m-=1\n",
    "\n",
    "            else:\n",
    "                nums1[m+n-1]=nums2[n-1]\n",
    "                n-=1\n",
    "        if n>0:\n",
    "            nums1[:n] = nums2[:n]\n",
    "        return nums1\n",
    "\n",
    "        "
   ]
  },
  {
   "cell_type": "code",
   "execution_count": 17,
   "metadata": {},
   "outputs": [
    {
     "name": "stdout",
     "output_type": "stream",
     "text": [
      "[1, 2, 2, 3, 4, 5]\n"
     ]
    }
   ],
   "source": [
    "nums1=[1,2,3,0,0,0]\n",
    "nums2=[2,4,5]\n",
    "m,n=3,3\n",
    "print(Solution().merge2(nums1,m,nums2,n))"
   ]
  },
  {
   "cell_type": "code",
   "execution_count": null,
   "metadata": {},
   "outputs": [],
   "source": []
  }
 ],
 "metadata": {
  "kernelspec": {
   "display_name": "Python 2",
   "language": "python",
   "name": "python2"
  },
  "language_info": {
   "codemirror_mode": {
    "name": "ipython",
    "version": 2
   },
   "file_extension": ".py",
   "mimetype": "text/x-python",
   "name": "python",
   "nbconvert_exporter": "python",
   "pygments_lexer": "ipython2",
   "version": "2.7.14"
  }
 },
 "nbformat": 4,
 "nbformat_minor": 2
}

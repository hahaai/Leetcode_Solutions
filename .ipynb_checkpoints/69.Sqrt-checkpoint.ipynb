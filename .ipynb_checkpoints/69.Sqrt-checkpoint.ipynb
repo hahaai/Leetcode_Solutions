{
 "cells": [
  {
   "cell_type": "markdown",
   "metadata": {},
   "source": [
    "# 69. Sqrt(x)\n",
    "Implement int sqrt(int x).\n",
    "\n",
    "Compute and return the square root of x, where x is guaranteed to be a non-negative integer.\n",
    "\n",
    "Since the return type is an integer, the decimal digits are truncated and only the integer part of the result is returned.\n",
    "\n",
    "Example 1:\n",
    "\n",
    "Input: 4\n",
    "Output: 2\n",
    "Example 2:\n",
    "\n",
    "Input: 8\n",
    "Output: 2\n",
    "Explanation: The square root of 8 is 2.82842..., and since \n",
    "             the decimal part is truncated, 2 is returned.\n",
    "             \n",
    "             \n",
    "Notes: It is a Integer square root problem. This can be done by trying all the integers less than x. Binary search can be used. And the fancy Newton method can be used too."
   ]
  },
  {
   "cell_type": "code",
   "execution_count": 122,
   "metadata": {},
   "outputs": [],
   "source": [
    "class Solution(object):\n",
    "    \n",
    "    \n",
    "    def mySqrt(self, x):\n",
    "        \"\"\"\n",
    "        :type x: int\n",
    "        :rtype: int\n",
    "        \"\"\"\n",
    "        # slowest, jsut try every interger\n",
    "        \n",
    "        if x ==0:\n",
    "            return 0\n",
    "        else:\n",
    "            for i in range(x):\n",
    "                if (i+1)*(i+1)>x:\n",
    "                    return i\n",
    "                elif (i+1)*(i+1)==x:\n",
    "                    return (i+1)\n",
    "                \n",
    "    def mySqrt_Newton(self, x):\n",
    "        \"\"\"\n",
    "        :type x: int\n",
    "        :rtype: int\n",
    "        \"\"\"\n",
    "        # newton. This is fancy.\n",
    "        # https://en.wikipedia.org/wiki/Integer_square_root#Using_only_integer_division\n",
    "        r = x\n",
    "        while r*r > x:\n",
    "            r = (r + x/r) / 2\n",
    "        return r\n",
    "    \n",
    "    def mySqrt_bs(self, x):\n",
    "        \"\"\"\n",
    "        :type x: int\n",
    "        :rtype: int\n",
    "        \"\"\"\n",
    "        # Binary search. Stop cretia is import\n",
    "        if x <=1:\n",
    "            return 1\n",
    "        else:\n",
    "            left=0;\n",
    "            right=x\n",
    "            mid=x//2\n",
    "            while True:\n",
    "                if mid*mid <=x and (mid+1)*(mid+1)>x:\n",
    "                    break\n",
    "                if mid*mid >=x:\n",
    "                    left=left\n",
    "                    right=mid\n",
    "                    mid=(left+mid)//2\n",
    "                if mid*mid<x:\n",
    "                    left=mid\n",
    "                    right=right\n",
    "                    mid=(mid+right)//2\n",
    "\n",
    "            return mid\n",
    "            \n",
    "\n",
    "            "
   ]
  },
  {
   "cell_type": "code",
   "execution_count": 129,
   "metadata": {},
   "outputs": [
    {
     "name": "stdout",
     "output_type": "stream",
     "text": [
      "2891\n",
      "CPU times: user 157 ms, sys: 16.2 ms, total: 174 ms\n",
      "Wall time: 173 ms\n"
     ]
    }
   ],
   "source": [
    "%%time\n",
    "x=8363632\n",
    "print(Solution().mySqrt(x))"
   ]
  },
  {
   "cell_type": "code",
   "execution_count": 130,
   "metadata": {},
   "outputs": [
    {
     "name": "stdout",
     "output_type": "stream",
     "text": [
      "2891\n",
      "CPU times: user 224 µs, sys: 127 µs, total: 351 µs\n",
      "Wall time: 236 µs\n"
     ]
    }
   ],
   "source": [
    "%%time\n",
    "x=8363632\n",
    "print(Solution().mySqrt_Newton(x))"
   ]
  },
  {
   "cell_type": "code",
   "execution_count": 131,
   "metadata": {},
   "outputs": [
    {
     "name": "stdout",
     "output_type": "stream",
     "text": [
      "2891\n",
      "CPU times: user 602 µs, sys: 449 µs, total: 1.05 ms\n",
      "Wall time: 636 µs\n"
     ]
    }
   ],
   "source": [
    "%%time\n",
    "x=8363632\n",
    "print(Solution().mySqrt_bs(x))"
   ]
  },
  {
   "cell_type": "code",
   "execution_count": 107,
   "metadata": {},
   "outputs": [
    {
     "data": {
      "text/plain": [
       "True"
      ]
     },
     "execution_count": 107,
     "metadata": {},
     "output_type": "execute_result"
    }
   ],
   "source": []
  },
  {
   "cell_type": "code",
   "execution_count": 101,
   "metadata": {},
   "outputs": [
    {
     "data": {
      "text/plain": [
       "True"
      ]
     },
     "execution_count": 101,
     "metadata": {},
     "output_type": "execute_result"
    }
   ],
   "source": [
    "mid*mid <=x"
   ]
  },
  {
   "cell_type": "code",
   "execution_count": 102,
   "metadata": {},
   "outputs": [
    {
     "data": {
      "text/plain": [
       "True"
      ]
     },
     "execution_count": 102,
     "metadata": {},
     "output_type": "execute_result"
    }
   ],
   "source": [
    "(mid+1)*(mid+1)>x"
   ]
  },
  {
   "cell_type": "code",
   "execution_count": null,
   "metadata": {
    "collapsed": true
   },
   "outputs": [],
   "source": []
  }
 ],
 "metadata": {
  "kernelspec": {
   "display_name": "Python 2",
   "language": "python",
   "name": "python2"
  },
  "language_info": {
   "codemirror_mode": {
    "name": "ipython",
    "version": 2
   },
   "file_extension": ".py",
   "mimetype": "text/x-python",
   "name": "python",
   "nbconvert_exporter": "python",
   "pygments_lexer": "ipython2",
   "version": "2.7.13"
  }
 },
 "nbformat": 4,
 "nbformat_minor": 2
}
